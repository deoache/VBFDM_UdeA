{
 "cells": [
  {
   "cell_type": "code",
   "execution_count": 1,
   "metadata": {},
   "outputs": [],
   "source": [
    "import os \n",
    "import json"
   ]
  },
  {
   "cell_type": "code",
   "execution_count": 2,
   "metadata": {},
   "outputs": [],
   "source": [
    "# DATASET dict\n",
    "# Obtained from https://cmsweb.cern.ch/das/\n",
    "\n",
    "datasets = {\n",
    "    \"2017_UL\": {\n",
    "        # w(lv) + jets\n",
    "        \"WJetsToLNu_HT-100To200_TuneCP5_13TeV-madgraphMLM-pythia8\": \"RunIISummer20UL17NanoAODv2-106X_mc2017_realistic_v8-v1/NANOAODSIM\",\n",
    "        \"WJetsToLNu_HT-200To400_TuneCP5_13TeV-madgraphMLM-pythia8\": \"RunIISummer20UL17NanoAODv2-106X_mc2017_realistic_v8-v1/NANOAODSIM\",\n",
    "        \"WJetsToLNu_HT-400To600_TuneCP5_13TeV-madgraphMLM-pythia8\": \"RunIISummer20UL17NanoAODv2-106X_mc2017_realistic_v8-v1/NANOAODSIM\",\n",
    "        \"WJetsToLNu_HT-600To800_TuneCP5_13TeV-madgraphMLM-pythia8\": \"RunIISummer20UL17NanoAODv2-106X_mc2017_realistic_v8-v1/NANOAODSIM\",\n",
    "        \"WJetsToLNu_HT-800To1200_TuneCP5_13TeV-madgraphMLM-pythia8\": \"RunIISummer20UL17NanoAODv2-106X_mc2017_realistic_v8-v1/NANOAODSIM\",\n",
    "        \"WJetsToLNu_HT-1200To2500_TuneCP5_13TeV-madgraphMLM-pythia8\": \"RunIISummer20UL17NanoAODv2-106X_mc2017_realistic_v8-v1/NANOAODSIM\",\n",
    "        \n",
    "        # z(nunu) + jets\n",
    "        \"ZJetsToNuNu_HT-100To200_TuneCP5_13TeV-madgraphMLM-pythia8\": \"RunIISummer20UL17NanoAODv2-106X_mc2017_realistic_v8-v1/NANOAODSIM\",\n",
    "        \"ZJetsToNuNu_HT-200To400_TuneCP5_13TeV-madgraphMLM-pythia8\": \"RunIISummer20UL17NanoAODv2-106X_mc2017_realistic_v8-v1/NANOAODSIM\",\n",
    "        \"ZJetsToNuNu_HT-400To600_TuneCP5_13TeV-madgraphMLM-pythia8\": \"RunIISummer20UL17NanoAODv2-106X_mc2017_realistic_v8-v1/NANOAODSIM\",\n",
    "        \"ZJetsToNuNu_HT-600To800_TuneCP5_13TeV-madgraphMLM-pythia8\": \"RunIISummer20UL17NanoAODv2-106X_mc2017_realistic_v8-v1/NANOAODSIM\",\n",
    "        \"ZJetsToNuNu_HT-800To1200_TuneCP5_13TeV-madgraphMLM-pythia8\":\"RunIISummer20UL17NanoAODv2-106X_mc2017_realistic_v8-v1/NANOAODSIM\",\n",
    "        \"ZJetsToNuNu_HT-1200To2500_TuneCP5_13TeV-madgraphMLM-pythia8\": \"RunIISummer20UL17NanoAODv2-106X_mc2017_realistic_v8-v1/NANOAODSIM\",\n",
    "        \"ZJetsToNuNu_HT-2500ToInf_TuneCP5_13TeV-madgraphMLM-pythia8\": \"RunIISummer20UL17NanoAODv2-106X_mc2017_realistic_v8-v1/NANOAODSIM\",\n",
    "        \n",
    "        # tt\n",
    "        \"TTbar_13TeV_TuneCP5_Pythia8\": \"RunIISummer19UL16NanoAOD-106X_mcRun2_asymptotic_v13-v1/NANOAODSIM\",\n",
    "        \n",
    "        # single-t\n",
    "        \"ST_t-channel_antitop_4f_InclusiveDecays_TuneCP5CR1_13TeV-powheg-madspin-pythia8\": \"RunIISummer19UL17NanoAODv2-106X_mc2017_realistic_v8-v1/NANOAODSIM\",\n",
    "        \"ST_t-channel_top_4f_InclusiveDecays_TuneCP5CR1_13TeV-powheg-madspin-pythia8\":\"RunIISummer19UL17NanoAODv2-106X_mc2017_realistic_v8-v1/NANOAODSIM\",\n",
    "        \"ST_tW_antitop_5f_inclusiveDecays_TuneCP5_13TeV-powheg-pythia8\": \"RunIISummer20UL17NanoAODv2-106X_mc2017_realistic_v8-v1/NANOAODSIM\",\n",
    "        \"ST_tW_top_5f_inclusiveDecays_TuneCP5_13TeV-powheg-pythia8\": \"RunIISummer20UL17NanoAODv2-106X_mc2017_realistic_v8-v1/NANOAODSIM\",\n",
    "        \"ST_s-channel_4f_InclusiveDecays_13TeV-amcatnlo-pythia8\": \"RunIISummer16NanoAODv7-PUMoriond17_Nano02Apr2020_102X_mcRun2_asymptotic_v8-v1/NANOAODSIM\",\n",
    "        \n",
    "        # di-boson\n",
    "        \"WW_TuneCP5_13TeV-pythia8\": \"RunIISummer20UL17NanoAODv2-106X_mc2017_realistic_v8-v1/NANOAODSIM\",\n",
    "        \"WZ_TuneCP5_13TeV-pythia8\": \"RunIISummer20UL17NanoAODv2-106X_mc2017_realistic_v8-v1/NANOAODSIM\",\n",
    "        \"ZZ_TuneCP5_13TeV-pythia8\": \"RunIISummer20UL17NanoAODv2-106X_mc2017_realistic_v8-v1/NANOAODSIM\",\n",
    "    },\n",
    "}"
   ]
  },
  {
   "cell_type": "code",
   "execution_count": 3,
   "metadata": {},
   "outputs": [],
   "source": [
    "reco = \"UL\"\n",
    "year = \"2017\"\n",
    "yreco = f\"{year}_{reco}\"\n",
    "\n",
    "filesets = {}\n",
    "filesets[yreco] = {}\n",
    "\n",
    "for dataset, post in datasets[yreco].items():\n",
    "    querys = []\n",
    "    if isinstance(post, list):\n",
    "        for x in post:\n",
    "            querys.append(f\"file dataset=/{dataset}/{x}\")                  \n",
    "    else:\n",
    "        querys.append(f\"file dataset=/{dataset}/{post}\")\n",
    "        \n",
    "    filearray = []\n",
    "    for newquery in querys:\n",
    "        farray = !dasgoclient --query=\"file ${newquery}\"\n",
    "        filearray.extend(farray)\n",
    "    filesets[yreco][dataset] = filearray\n",
    "\n",
    "with open(f\"fileset_{yreco}_NANO.json\", 'w') as json_file:\n",
    "    json.dump(filesets[yreco], json_file, indent=4, sort_keys=True)"
   ]
  },
  {
   "cell_type": "code",
   "execution_count": null,
   "metadata": {},
   "outputs": [],
   "source": []
  }
 ],
 "metadata": {
  "kernelspec": {
   "display_name": "Python 3 (ipykernel)",
   "language": "python",
   "name": "python3"
  },
  "language_info": {
   "codemirror_mode": {
    "name": "ipython",
    "version": 3
   },
   "file_extension": ".py",
   "mimetype": "text/x-python",
   "name": "python",
   "nbconvert_exporter": "python",
   "pygments_lexer": "ipython3",
   "version": "3.7.11"
  }
 },
 "nbformat": 4,
 "nbformat_minor": 2
}
