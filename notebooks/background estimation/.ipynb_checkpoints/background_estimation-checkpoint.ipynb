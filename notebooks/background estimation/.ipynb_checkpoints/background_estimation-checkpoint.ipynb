{
 "cells": [
  {
   "cell_type": "code",
   "execution_count": 1,
   "id": "5851bd47-06dd-4db5-b980-86086ed0ac27",
   "metadata": {},
   "outputs": [],
   "source": [
    "import numpy as np\n",
    "import awkward as ak\n",
    "\n",
    "from coffea import processor\n",
    "from coffea.nanoevents.methods import vector"
   ]
  },
  {
   "cell_type": "code",
   "execution_count": 2,
   "id": "710f1ed3-fbf7-4ceb-94ac-db3202339884",
   "metadata": {},
   "outputs": [],
   "source": [
    "def get_pt_x(obj: ak.Array):\n",
    "    return ak.sum(obj.pt * np.cos(obj.phi), axis=1)\n",
    "\n",
    "def get_pt_y(obj: ak.Array):\n",
    "    return ak.sum(obj.pt * np.sin(obj.phi), axis=1)\n",
    "\n",
    "def get_met(objs: list):\n",
    "    \"\"\"construct a Momentum2D for MET\"\"\"\n",
    "    pt_x = ak.sum([get_pt_x(obj) for obj in objs], axis=0, mask_identity=True)\n",
    "    pt_y = ak.sum([get_pt_y(obj) for obj in objs], axis=0, mask_identity=True)\n",
    "    \n",
    "    return ak.zip(\n",
    "        {\n",
    "            \"pt\": np.sqrt(pt_x ** 2 + pt_y ** 2), \n",
    "            \"phi\": np.arctan(pt_y / pt_x) + np.pi\n",
    "        },\n",
    "        with_name=\"Momentum2D\",\n",
    "        behavior=vector.behavior\n",
    "    )      \n",
    "\n",
    "def accumulator(array: ak.Array):\n",
    "    return processor.column_accumulator(ak.to_numpy(array))"
   ]
  },
  {
   "cell_type": "code",
   "execution_count": 3,
   "id": "dd4db68f-da3a-4167-bf7f-9e0b3c27d5fa",
   "metadata": {},
   "outputs": [],
   "source": [
    "class BackgroundEstimatorProcessor(processor.ProcessorABC):\n",
    "    def __init__(self):\n",
    "        self.make_output = lambda: {\n",
    "            'sumw': 0.,\n",
    "            \n",
    "        }\n",
    "    def process(self, events):\n",
    "        dataset = events.metadata['dataset']\n",
    "        sumgenweight = ak.sum(events.genWeight) \n",
    "        \n",
    "        muon = ak.pad_none(events.Muon, target=2)\n",
    "        leading_muons_mass = (muon[:, 0] + muon[:, 1]).mass\n",
    "\n",
    "        mask = (\n",
    "            (np.sum(muon.pt > 0, axis=1) == 2)\n",
    "            & (ak.prod(muon.charge, axis=1) == -1)\n",
    "            & (muon.pt[:, 0] > 30)\n",
    "            & (muon.pt[:, 1] > 30)\n",
    "            & (abs(muon.eta)[:, 0] < 2.1)\n",
    "            & (abs(muon.eta)[:, 1] < 2.1)\n",
    "            & ((60 < leading_muons_mass) & (leading_muons_mass < 120))\n",
    "        )\n",
    "        \n",
    "        objects = {\n",
    "            \"jet\": events[mask].Jet,\n",
    "            \"electron\": events[mask].Electron,\n",
    "            \"photon\": events[mask].Photon\n",
    "        }\n",
    "        \n",
    "        met = get_met(objects.values())\n",
    "        \n",
    "        output = {\n",
    "            \"met_pt\": accumulator(met[\"pt\"]),\n",
    "            \"met_phi\": accumulator(met[\"phi\"]),\n",
    "            \"sumgenweight\": sumgenweight,\n",
    "        }\n",
    "        \n",
    "        return {dataset: output}\n",
    "    \n",
    "    def postprocess(self, accumulator):\n",
    "        for dataset, output in accumulator.items():\n",
    "            for var in output:\n",
    "                if var == \"sumgenweight\": continue\n",
    "                output[var] = ak.from_numpy(output[var].value)\n",
    "        return accumulator"
   ]
  },
  {
   "cell_type": "code",
   "execution_count": 4,
   "id": "9cedd996-2a4d-4520-863d-8da34d4dd9e4",
   "metadata": {},
   "outputs": [
    {
     "data": {
      "text/html": [
       "<div>\n",
       "    <div style=\"width: 24px; height: 24px; background-color: #e1e1e1; border: 3px solid #9D9D9D; border-radius: 5px; position: absolute;\"> </div>\n",
       "    <div style=\"margin-left: 48px;\">\n",
       "        <h3 style=\"margin-bottom: 0px;\">Client</h3>\n",
       "        <p style=\"color: #9D9D9D; margin-bottom: 0px;\">Client-612643a2-b145-11ec-8234-0a2e219667b9</p>\n",
       "        <table style=\"width: 100%; text-align: left;\">\n",
       "\n",
       "        <tr>\n",
       "        \n",
       "            <td style=\"text-align: left;\"><strong>Connection method:</strong> Direct</td>\n",
       "            <td style=\"text-align: left;\"></td>\n",
       "        \n",
       "        </tr>\n",
       "\n",
       "        \n",
       "            <tr>\n",
       "                <td style=\"text-align: left;\">\n",
       "                    <strong>Dashboard: </strong> <a href=\"/user/daniel.ocampo.henao@cern.ch/proxy/8787/status\" target=\"_blank\">/user/daniel.ocampo.henao@cern.ch/proxy/8787/status</a>\n",
       "                </td>\n",
       "                <td style=\"text-align: left;\"></td>\n",
       "            </tr>\n",
       "        \n",
       "\n",
       "        </table>\n",
       "\n",
       "        \n",
       "            <details>\n",
       "            <summary style=\"margin-bottom: 20px;\"><h3 style=\"display: inline;\">Scheduler Info</h3></summary>\n",
       "            <div style=\"\">\n",
       "    <div>\n",
       "        <div style=\"width: 24px; height: 24px; background-color: #FFF7E5; border: 3px solid #FF6132; border-radius: 5px; position: absolute;\"> </div>\n",
       "        <div style=\"margin-left: 48px;\">\n",
       "            <h3 style=\"margin-bottom: 0px;\">Scheduler</h3>\n",
       "            <p style=\"color: #9D9D9D; margin-bottom: 0px;\">Scheduler-887b4e7a-bfdb-4db4-b35f-985fc822fe78</p>\n",
       "            <table style=\"width: 100%; text-align: left;\">\n",
       "                <tr>\n",
       "                    <td style=\"text-align: left;\">\n",
       "                        <strong>Comm:</strong> tls://192.168.144.145:8786\n",
       "                    </td>\n",
       "                    <td style=\"text-align: left;\">\n",
       "                        <strong>Workers:</strong> 2\n",
       "                    </td>\n",
       "                </tr>\n",
       "                <tr>\n",
       "                    <td style=\"text-align: left;\">\n",
       "                        <strong>Dashboard:</strong> <a href=\"/user/daniel.ocampo.henao@cern.ch/proxy/8787/status\" target=\"_blank\">/user/daniel.ocampo.henao@cern.ch/proxy/8787/status</a>\n",
       "                    </td>\n",
       "                    <td style=\"text-align: left;\">\n",
       "                        <strong>Total threads:</strong> 4\n",
       "                    </td>\n",
       "                </tr>\n",
       "                <tr>\n",
       "                    <td style=\"text-align: left;\">\n",
       "                        <strong>Started:</strong> 4 hours ago\n",
       "                    </td>\n",
       "                    <td style=\"text-align: left;\">\n",
       "                        <strong>Total memory:</strong> 12.72 GiB\n",
       "                    </td>\n",
       "                </tr>\n",
       "            </table>\n",
       "        </div>\n",
       "    </div>\n",
       "\n",
       "    <details style=\"margin-left: 48px;\">\n",
       "        <summary style=\"margin-bottom: 20px;\">\n",
       "            <h3 style=\"display: inline;\">Workers</h3>\n",
       "        </summary>\n",
       "\n",
       "        \n",
       "        <div style=\"margin-bottom: 20px;\">\n",
       "            <div style=\"width: 24px; height: 24px; background-color: #DBF5FF; border: 3px solid #4CC9FF; border-radius: 5px; position: absolute;\"> </div>\n",
       "            <div style=\"margin-left: 48px;\">\n",
       "            <details>\n",
       "                <summary>\n",
       "                    <h4 style=\"margin-bottom: 0px; display: inline;\">Worker: htcondor--16917737.0--</h4>\n",
       "                </summary>\n",
       "                <table style=\"width: 100%; text-align: left;\">\n",
       "                    <tr>\n",
       "                        <td style=\"text-align: left;\">\n",
       "                            <strong>Comm: </strong> tls://red-c7127.unl.edu:37047\n",
       "                        </td>\n",
       "                        <td style=\"text-align: left;\">\n",
       "                            <strong>Total threads: </strong> 2\n",
       "                        </td>\n",
       "                    </tr>\n",
       "                    <tr>\n",
       "                        <td style=\"text-align: left;\">\n",
       "                            <strong>Dashboard: </strong> <a href=\"/user/daniel.ocampo.henao@cern.ch/proxy/34533/status\" target=\"_blank\">/user/daniel.ocampo.henao@cern.ch/proxy/34533/status</a>\n",
       "                        </td>\n",
       "                        <td style=\"text-align: left;\">\n",
       "                            <strong>Memory: </strong> 5.72 GiB\n",
       "                        </td>\n",
       "                    </tr>\n",
       "                    <tr>\n",
       "                        <td style=\"text-align: left;\">\n",
       "                            <strong>Nanny: </strong> tls://172.19.0.3:37199\n",
       "                        </td>\n",
       "                        <td style=\"text-align: left;\"></td>\n",
       "                    </tr>\n",
       "                    <tr>\n",
       "                        <td colspan=\"2\" style=\"text-align: left;\">\n",
       "                            <strong>Local directory: </strong> /var/lib/condor/execute/dir_3510278/dask-worker-space/worker-a7vzvy2b\n",
       "                        </td>\n",
       "                    </tr>\n",
       "\n",
       "                    \n",
       "\n",
       "                    \n",
       "                    <tr>\n",
       "                        <td style=\"text-align: left;\">\n",
       "                            <strong>Tasks executing: </strong> 0\n",
       "                        </td>\n",
       "                        <td style=\"text-align: left;\">\n",
       "                            <strong>Tasks in memory: </strong> 0\n",
       "                        </td>\n",
       "                    </tr>\n",
       "                    <tr>\n",
       "                        <td style=\"text-align: left;\">\n",
       "                            <strong>Tasks ready: </strong> 0\n",
       "                        </td>\n",
       "                        <td style=\"text-align: left;\">\n",
       "                            <strong>Tasks in flight: </strong>0\n",
       "                        </td>\n",
       "                    </tr>\n",
       "                    <tr>\n",
       "                        <td style=\"text-align: left;\">\n",
       "                            <strong>CPU usage:</strong> 2.0%\n",
       "                        </td>\n",
       "                        <td style=\"text-align: left;\">\n",
       "                            <strong>Last seen: </strong> Just now\n",
       "                        </td>\n",
       "                    </tr>\n",
       "                    <tr>\n",
       "                        <td style=\"text-align: left;\">\n",
       "                            <strong>Memory usage: </strong> 673.12 MiB\n",
       "                        </td>\n",
       "                        <td style=\"text-align: left;\">\n",
       "                            <strong>Spilled bytes: </strong> 0 B\n",
       "                        </td>\n",
       "                    </tr>\n",
       "                    <tr>\n",
       "                        <td style=\"text-align: left;\">\n",
       "                            <strong>Read bytes: </strong> 461.66890810118474 B\n",
       "                        </td>\n",
       "                        <td style=\"text-align: left;\">\n",
       "                            <strong>Write bytes: </strong> 1.13 kiB\n",
       "                        </td>\n",
       "                    </tr>\n",
       "                    \n",
       "\n",
       "                </table>\n",
       "            </details>\n",
       "            </div>\n",
       "        </div>\n",
       "        \n",
       "        <div style=\"margin-bottom: 20px;\">\n",
       "            <div style=\"width: 24px; height: 24px; background-color: #DBF5FF; border: 3px solid #4CC9FF; border-radius: 5px; position: absolute;\"> </div>\n",
       "            <div style=\"margin-left: 48px;\">\n",
       "            <details>\n",
       "                <summary>\n",
       "                    <h4 style=\"margin-bottom: 0px; display: inline;\">Worker: kubernetes-worker-45819161-63c8-4cbb-bbf0-229602fdda23</h4>\n",
       "                </summary>\n",
       "                <table style=\"width: 100%; text-align: left;\">\n",
       "                    <tr>\n",
       "                        <td style=\"text-align: left;\">\n",
       "                            <strong>Comm: </strong> tls://daniel-2eocampo-2ehenao-40cern-2ech.dask-worker.coffea.casa:8788\n",
       "                        </td>\n",
       "                        <td style=\"text-align: left;\">\n",
       "                            <strong>Total threads: </strong> 2\n",
       "                        </td>\n",
       "                    </tr>\n",
       "                    <tr>\n",
       "                        <td style=\"text-align: left;\">\n",
       "                            <strong>Dashboard: </strong> <a href=\"/user/daniel.ocampo.henao@cern.ch/proxy/32973/status\" target=\"_blank\">/user/daniel.ocampo.henao@cern.ch/proxy/32973/status</a>\n",
       "                        </td>\n",
       "                        <td style=\"text-align: left;\">\n",
       "                            <strong>Memory: </strong> 7.00 GiB\n",
       "                        </td>\n",
       "                    </tr>\n",
       "                    <tr>\n",
       "                        <td style=\"text-align: left;\">\n",
       "                            <strong>Nanny: </strong> tls://192.168.144.145:40567\n",
       "                        </td>\n",
       "                        <td style=\"text-align: left;\"></td>\n",
       "                    </tr>\n",
       "                    <tr>\n",
       "                        <td colspan=\"2\" style=\"text-align: left;\">\n",
       "                            <strong>Local directory: </strong> /home/cms-jovyan/dask-worker-space/worker-yrlqlw55\n",
       "                        </td>\n",
       "                    </tr>\n",
       "\n",
       "                    \n",
       "\n",
       "                    \n",
       "                    <tr>\n",
       "                        <td style=\"text-align: left;\">\n",
       "                            <strong>Tasks executing: </strong> 0\n",
       "                        </td>\n",
       "                        <td style=\"text-align: left;\">\n",
       "                            <strong>Tasks in memory: </strong> 0\n",
       "                        </td>\n",
       "                    </tr>\n",
       "                    <tr>\n",
       "                        <td style=\"text-align: left;\">\n",
       "                            <strong>Tasks ready: </strong> 0\n",
       "                        </td>\n",
       "                        <td style=\"text-align: left;\">\n",
       "                            <strong>Tasks in flight: </strong>0\n",
       "                        </td>\n",
       "                    </tr>\n",
       "                    <tr>\n",
       "                        <td style=\"text-align: left;\">\n",
       "                            <strong>CPU usage:</strong> 2.0%\n",
       "                        </td>\n",
       "                        <td style=\"text-align: left;\">\n",
       "                            <strong>Last seen: </strong> Just now\n",
       "                        </td>\n",
       "                    </tr>\n",
       "                    <tr>\n",
       "                        <td style=\"text-align: left;\">\n",
       "                            <strong>Memory usage: </strong> 621.56 MiB\n",
       "                        </td>\n",
       "                        <td style=\"text-align: left;\">\n",
       "                            <strong>Spilled bytes: </strong> 0 B\n",
       "                        </td>\n",
       "                    </tr>\n",
       "                    <tr>\n",
       "                        <td style=\"text-align: left;\">\n",
       "                            <strong>Read bytes: </strong> 41.43 kiB\n",
       "                        </td>\n",
       "                        <td style=\"text-align: left;\">\n",
       "                            <strong>Write bytes: </strong> 60.89 kiB\n",
       "                        </td>\n",
       "                    </tr>\n",
       "                    \n",
       "\n",
       "                </table>\n",
       "            </details>\n",
       "            </div>\n",
       "        </div>\n",
       "        \n",
       "\n",
       "    </details>\n",
       "</div>\n",
       "            </details>\n",
       "        \n",
       "\n",
       "    </div>\n",
       "</div>"
      ],
      "text/plain": [
       "<Client: 'tls://192.168.144.145:8786' processes=2 threads=4, memory=12.72 GiB>"
      ]
     },
     "execution_count": 4,
     "metadata": {},
     "output_type": "execute_result"
    }
   ],
   "source": [
    "from dask.distributed import Client\n",
    "\n",
    "client = Client(\"tls://daniel-2eocampo-2ehenao-40cern-2ech.dask.coffea.casa:8786\")\n",
    "client"
   ]
  },
  {
   "cell_type": "code",
   "execution_count": 5,
   "id": "986e6ee2-b3f4-4be5-b810-2f2af58260df",
   "metadata": {},
   "outputs": [
    {
     "name": "stdout",
     "output_type": "stream",
     "text": [
      "[########################################] | 100% Completed |  1min 27.8s\r"
     ]
    }
   ],
   "source": [
    "import matplotlib.pyplot as plt\n",
    "import hist\n",
    "import json\n",
    "\n",
    "with open(\"/home/cms-jovyan/VBFDM_UdeA/fileset/ZToMuMu.json\", \"r\") as f:\n",
    "    fileset = json.load(f)\n",
    "    \n",
    "for dataset, val in fileset.items():\n",
    "    fileset[dataset] = [\"root://xcache/\" + file for file in val]\n",
    "\n",
    "out = processor.run_uproot_job(\n",
    "    fileset,\n",
    "    treename=\"Events\",\n",
    "    processor_instance=BackgroundEstimatorProcessor(),\n",
    "    executor=processor.dask_executor,\n",
    "    executor_args={\n",
    "        \"schema\": processor.NanoAODSchema,\n",
    "        \"client\": client,\n",
    "    },\n",
    ")"
   ]
  },
  {
   "cell_type": "code",
   "execution_count": 6,
   "id": "3d67c592-ed27-4b9d-bc28-428a1591a177",
   "metadata": {},
   "outputs": [],
   "source": [
    "sample_names = {\n",
    "    \"ZToMuMu_M-50To120_TuneCP5_13TeV-powheg-pythia8\": \"ZToMuMu_M-50To120\",\n",
    "    \"ZToMuMu_M-120To200_TuneCP5_13TeV-powheg-pythia8\": \"ZToMuMu_M-120To200\",\n",
    "    \"ZToMuMu_M-200To400_TuneCP5_13TeV-powheg-pythia8\": \"ZToMuMu_M-200To400\",\n",
    "    \"ZToMuMu_M-400To800_TuneCP5_13TeV-powheg-pythia8\": \"ZToMuMu_M-400To800\",\n",
    "    \"ZToMuMu_M-800To1400_TuneCP5_13TeV-powheg-pythia8\": \"ZToMuMu_M-800To1400\"\n",
    "}"
   ]
  },
  {
   "cell_type": "code",
   "execution_count": 7,
   "id": "e3f451e2-106d-4636-b4b0-10bc2bcd3148",
   "metadata": {},
   "outputs": [
    {
     "data": {
      "text/plain": [
       "{'ZToMuMu_M-120To200': {'met_pt': <Array [29.8, None, None, ... None, None, None] type='44946 * ?float64'>,\n",
       "  'met_phi': <Array [3.54, None, None, ... None, None, None] type='44946 * ?float64'>,\n",
       "  'sumgenweight': 2059725.0},\n",
       " 'ZToMuMu_M-50To120': {'met_pt': <Array [4.64, 6.93e-310, 9.52, ... 54.4, nan] type='2009277 * ?float64'>,\n",
       "  'met_phi': <Array [3.85, 6.93e-310, 2.34, ... 1.92, nan] type='2009277 * ?float64'>,\n",
       "  'sumgenweight': 6328773600.0},\n",
       " 'ZToMuMu_M-400To800': {'met_pt': <Array [6.93e-310, 6.93e-310, ... nan, nan] type='25039 * ?float64'>,\n",
       "  'met_phi': <Array [6.93e-310, 6.93e-310, ... nan, nan] type='25039 * ?float64'>,\n",
       "  'sumgenweight': 25145.389},\n",
       " 'ZToMuMu_M-200To400': {'met_pt': <Array [6.9e-310, 6.9e-310, ... nan, nan] type='35975 * ?float64'>,\n",
       "  'met_phi': <Array [6.9e-310, 6.9e-310, ... nan, nan] type='35975 * ?float64'>,\n",
       "  'sumgenweight': 288939.5},\n",
       " 'ZToMuMu_M-800To1400': {'met_pt': <Array [None, None, None, ... None, None, None] type='14681 * ?float64'>,\n",
       "  'met_phi': <Array [None, None, None, ... None, None, None] type='14681 * ?float64'>,\n",
       "  'sumgenweight': 1708.6544}}"
      ]
     },
     "execution_count": 7,
     "metadata": {},
     "output_type": "execute_result"
    }
   ],
   "source": [
    "out = {sample_names[key]: value for key, value in out.items()}\n",
    "out"
   ]
  },
  {
   "cell_type": "code",
   "execution_count": 8,
   "id": "c8588ac8-c471-416e-8852-5d8c3e503d2a",
   "metadata": {},
   "outputs": [],
   "source": [
    "xsecs = {\n",
    "    \"ZToMuMu_M-50To120\": 2116,\n",
    "    \"ZToMuMu_M-120To200\": 20.58,\n",
    "    \"ZToMuMu_M-200To400\": 2.89,\n",
    "    \"ZToMuMu_M-400To800\": 0.2515,\n",
    "    \"ZToMuMu_M-800To1400\": 0.01709, \n",
    "}"
   ]
  },
  {
   "cell_type": "code",
   "execution_count": 9,
   "id": "03e3a625-572d-46a2-a760-b8b14a040e47",
   "metadata": {},
   "outputs": [],
   "source": [
    "luminosity = {\n",
    "    \"2016\": 36330.0,\n",
    "    \"2017\": 41480.0,\n",
    "    \"2018\": 59830.0\n",
    "}"
   ]
  },
  {
   "cell_type": "code",
   "execution_count": 10,
   "id": "2f461a95-dad9-4520-8801-b71bcb7c31ee",
   "metadata": {},
   "outputs": [
    {
     "data": {
      "text/plain": [
       "{'ZToMuMu_M-120To200': 2059725.0,\n",
       " 'ZToMuMu_M-50To120': 6328773600.0,\n",
       " 'ZToMuMu_M-400To800': 25145.389,\n",
       " 'ZToMuMu_M-200To400': 288939.5,\n",
       " 'ZToMuMu_M-800To1400': 1708.6544}"
      ]
     },
     "execution_count": 10,
     "metadata": {},
     "output_type": "execute_result"
    }
   ],
   "source": [
    "sumw = {sample: out[sample][\"sumgenweight\"] for sample in out}\n",
    "sumw"
   ]
  },
  {
   "cell_type": "code",
   "execution_count": 11,
   "id": "dde2b56f-a49d-4897-b816-9bebd0c8abef",
   "metadata": {},
   "outputs": [
    {
     "data": {
      "text/plain": [
       "{'ZToMuMu_M-120To200': 0.41445260896478897,\n",
       " 'ZToMuMu_M-50To120': 0.013868671104967718,\n",
       " 'ZToMuMu_M-400To800': 0.4148760687747248,\n",
       " 'ZToMuMu_M-200To400': 0.4148868534762468,\n",
       " 'ZToMuMu_M-800To1400': 0.4148838946833807}"
      ]
     },
     "execution_count": 11,
     "metadata": {},
     "output_type": "execute_result"
    }
   ],
   "source": [
    "weights = {\n",
    "    sample: (xsecs[sample] * luminosity[\"2017\"]) / sumw[sample] \n",
    "    for sample in out\n",
    "}\n",
    "weights"
   ]
  },
  {
   "cell_type": "code",
   "execution_count": 56,
   "id": "9854c9b4-a693-45af-9c0c-718c8ab3df68",
   "metadata": {},
   "outputs": [],
   "source": [
    "hists = hist.Hist(\n",
    "    hist.axis.StrCategory([], name='name', growth=True),\n",
    "    hist.axis.Regular(50, 0, 400, name='met', label='$p_T^{miss}$ [GeV]'),\n",
    "    hist.storage.Weight(),\n",
    ")"
   ]
  },
  {
   "cell_type": "code",
   "execution_count": 57,
   "id": "9c71d029-1c10-403b-be61-dd3f3e53d0af",
   "metadata": {},
   "outputs": [],
   "source": [
    "for sample in out:\n",
    "    hists.fill(\n",
    "        name=sample,\n",
    "        met=ak.flatten(out[sample][\"met_pt\"], axis=0)#weights[sample] * ak.flatten(out[sample][\"met_pt\"], axis=0)\n",
    "    )"
   ]
  },
  {
   "cell_type": "code",
   "execution_count": 58,
   "id": "bfc2bee7-58ce-4854-8853-7c85d21d3873",
   "metadata": {},
   "outputs": [],
   "source": [
    "scaled_hists = hist.Hist(\n",
    "    hist.axis.StrCategory([], name='name', growth=True),\n",
    "    hist.axis.Regular(50, 0, 400, name='met', label='$p_T^{miss}$ [GeV]'),\n",
    "    hist.storage.Weight(),\n",
    ")\n",
    "\n",
    "for sample in out:\n",
    "    scaled_hists.fill(\n",
    "        name=sample,\n",
    "        met=weights[sample] * ak.flatten(out[sample][\"met_pt\"], axis=0)\n",
    "    )"
   ]
  },
  {
   "cell_type": "code",
   "execution_count": 186,
   "id": "6a15390c-b6c4-40c3-b21c-a7b2036a6d76",
   "metadata": {},
   "outputs": [
    {
     "data": {
      "image/png": "[encoded data removed]",
      "text/plain": [
       "<Figure size 432x288 with 1 Axes>"
      ]
     },
     "metadata": {
      "needs_background": "light"
     },
     "output_type": "display_data"
    }
   ],
   "source": [
    "scaled_hists.plot1d(density=True)\n",
    "plt.legend(out.keys());"
   ]
  },
  {
   "cell_type": "code",
   "execution_count": 179,
   "id": "3bac9623-cac8-4399-bd27-ef3902169e10",
   "metadata": {},
   "outputs": [],
   "source": [
    "processor.accumulate(scaled_hists)"
   ]
  },
  {
   "cell_type": "code",
   "execution_count": 184,
   "id": "e1e051db-b138-4c8c-a358-09b3d6d0cd11",
   "metadata": {},
   "outputs": [
    {
     "data": {
      "image/png": "[encoded data removed]",
      "text/plain": [
       "<Figure size 432x288 with 1 Axes>"
      ]
     },
     "metadata": {
      "needs_background": "light"
     },
     "output_type": "display_data"
    }
   ],
   "source": [
    "scaled_hists.project(\"met\").plot1d(density=True);"
   ]
  },
  {
   "cell_type": "code",
   "execution_count": null,
   "id": "c361f133-19a2-4a3d-bee9-aaf755f5053c",
   "metadata": {},
   "outputs": [],
   "source": []
  }
 ],
 "metadata": {
  "kernelspec": {
   "display_name": "Python 3 (ipykernel)",
   "language": "python",
   "name": "python3"
  },
  "language_info": {
   "codemirror_mode": {
    "name": "ipython",
    "version": 3
   },
   "file_extension": ".py",
   "mimetype": "text/x-python",
   "name": "python",
   "nbconvert_exporter": "python",
   "pygments_lexer": "ipython3",
   "version": "3.8.12"
  }
 },
 "nbformat": 4,
 "nbformat_minor": 5
}
