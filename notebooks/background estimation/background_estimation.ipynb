{
 "cells": [
  {
   "cell_type": "code",
   "execution_count": 1,
   "id": "5851bd47-06dd-4db5-b980-86086ed0ac27",
   "metadata": {},
   "outputs": [],
   "source": [
    "import numpy as np\n",
    "import awkward as ak\n",
    "import matplotlib.pyplot as plt\n",
    "import hist\n",
    "import json\n",
    "\n",
    "from coffea import processor\n",
    "from coffea.nanoevents.methods import vector"
   ]
  },
  {
   "cell_type": "code",
   "execution_count": 2,
   "id": "dd4db68f-da3a-4167-bf7f-9e0b3c27d5fa",
   "metadata": {},
   "outputs": [],
   "source": [
    "dataset_short_name = {\n",
    "    \"ZToMuMu_M-50To120_TuneCP5_13TeV-powheg-pythia8\": \"ZToMuMu_M-50To120\",\n",
    "    \"ZToMuMu_M-120To200_TuneCP5_13TeV-powheg-pythia8\": \"ZToMuMu_M-120To200\",\n",
    "    \"ZToMuMu_M-200To400_TuneCP5_13TeV-powheg-pythia8\": \"ZToMuMu_M-200To400\",\n",
    "    \"ZToMuMu_M-400To800_TuneCP5_13TeV-powheg-pythia8\": \"ZToMuMu_M-400To800\",\n",
    "    \"ZToMuMu_M-800To1400_TuneCP5_13TeV-powheg-pythia8\": \"ZToMuMu_M-800To1400\"\n",
    "}\n",
    "\n",
    "class BackgroundEstimatorProcessor(processor.ProcessorABC):\n",
    "    def __init__(self):\n",
    "        self.make_output = lambda: {\n",
    "            'sumw': 0.,\n",
    "            'met_kin': hist.Hist(hist.axis.Regular(40, 0, 400, name='met', label='$p_T^{miss}$ [GeV]'))\n",
    "        }\n",
    "        \n",
    "    def get_pt_x(self, obj: ak.Array):\n",
    "        return ak.sum(obj.pt * np.cos(obj.phi), axis=1)\n",
    "\n",
    "    def get_pt_y(self, obj: ak.Array):\n",
    "        return ak.sum(obj.pt * np.sin(obj.phi), axis=1)\n",
    "\n",
    "    def get_met(self, objs: list):\n",
    "        \"\"\"return a Momentum2D for MET\"\"\"\n",
    "        pt_x = ak.sum([self.get_pt_x(obj) for obj in objs], \n",
    "                      axis=0, \n",
    "                      mask_identity=True)\n",
    "        pt_y = ak.sum([self.get_pt_y(obj) for obj in objs], \n",
    "                      axis=0, \n",
    "                      mask_identity=True)\n",
    "        \n",
    "        return ak.zip(\n",
    "            {\n",
    "                \"pt\": np.sqrt(pt_x ** 2 + pt_y ** 2), \n",
    "                \"phi\": np.arctan(pt_y / pt_x) + np.pi\n",
    "            },\n",
    "            with_name=\"Momentum2D\",\n",
    "            behavior=vector.behavior\n",
    "        )      \n",
    "\n",
    "    def process(self, events):   \n",
    "        dataset = events.metadata['dataset']\n",
    "        muon = ak.pad_none(events.Muon, target=2)\n",
    "        leading_muons_mass = (muon[:, 0] + muon[:, 1]).mass\n",
    "\n",
    "        mask = (\n",
    "            (np.sum(muon.pt > 0, axis=1) == 2)\n",
    "            & (ak.prod(muon.charge, axis=1) == -1)\n",
    "            & (muon.pt[:, 0] > 30)\n",
    "            & (muon.pt[:, 1] > 30)\n",
    "            & (abs(muon.eta)[:, 0] < 2.1)\n",
    "            & (abs(muon.eta)[:, 1] < 2.1)\n",
    "            & ((60 < leading_muons_mass) & (leading_muons_mass < 120))\n",
    "        )\n",
    "        \n",
    "        met = self.get_met([events[mask].Jet,\n",
    "                            events[mask].Electron,\n",
    "                            events[mask].Photon])\n",
    "        \n",
    "        output = self.make_output()\n",
    "        output['sumw'] = ak.sum(events.genWeight)\n",
    "        output[\"met_kin\"].fill(met=ak.flatten(met[\"pt\"], axis=0))\n",
    "        \n",
    "        return {dataset_short_name[dataset]: output}\n",
    "    \n",
    "    def postprocess(self, accumulator):   \n",
    "        return accumulator"
   ]
  },
  {
   "cell_type": "code",
   "execution_count": 3,
   "id": "9cedd996-2a4d-4520-863d-8da34d4dd9e4",
   "metadata": {},
   "outputs": [
    {
     "data": {
      "text/html": [
       "<div>\n",
       "    <div style=\"width: 24px; height: 24px; background-color: #e1e1e1; border: 3px solid #9D9D9D; border-radius: 5px; position: absolute;\"> </div>\n",
       "    <div style=\"margin-left: 48px;\">\n",
       "        <h3 style=\"margin-bottom: 0px;\">Client</h3>\n",
       "        <p style=\"color: #9D9D9D; margin-bottom: 0px;\">Client-f93c6b62-b1cf-11ec-8105-2ef5ff8dac63</p>\n",
       "        <table style=\"width: 100%; text-align: left;\">\n",
       "\n",
       "        <tr>\n",
       "        \n",
       "            <td style=\"text-align: left;\"><strong>Connection method:</strong> Direct</td>\n",
       "            <td style=\"text-align: left;\"></td>\n",
       "        \n",
       "        </tr>\n",
       "\n",
       "        \n",
       "            <tr>\n",
       "                <td style=\"text-align: left;\">\n",
       "                    <strong>Dashboard: </strong> <a href=\"/user/daniel.ocampo.henao@cern.ch/proxy/8787/status\" target=\"_blank\">/user/daniel.ocampo.henao@cern.ch/proxy/8787/status</a>\n",
       "                </td>\n",
       "                <td style=\"text-align: left;\"></td>\n",
       "            </tr>\n",
       "        \n",
       "\n",
       "        </table>\n",
       "\n",
       "        \n",
       "            <details>\n",
       "            <summary style=\"margin-bottom: 20px;\"><h3 style=\"display: inline;\">Scheduler Info</h3></summary>\n",
       "            <div style=\"\">\n",
       "    <div>\n",
       "        <div style=\"width: 24px; height: 24px; background-color: #FFF7E5; border: 3px solid #FF6132; border-radius: 5px; position: absolute;\"> </div>\n",
       "        <div style=\"margin-left: 48px;\">\n",
       "            <h3 style=\"margin-bottom: 0px;\">Scheduler</h3>\n",
       "            <p style=\"color: #9D9D9D; margin-bottom: 0px;\">Scheduler-8ab6f710-d965-47d1-924c-64a2c9f6d565</p>\n",
       "            <table style=\"width: 100%; text-align: left;\">\n",
       "                <tr>\n",
       "                    <td style=\"text-align: left;\">\n",
       "                        <strong>Comm:</strong> tls://192.168.144.171:8786\n",
       "                    </td>\n",
       "                    <td style=\"text-align: left;\">\n",
       "                        <strong>Workers:</strong> 1\n",
       "                    </td>\n",
       "                </tr>\n",
       "                <tr>\n",
       "                    <td style=\"text-align: left;\">\n",
       "                        <strong>Dashboard:</strong> <a href=\"/user/daniel.ocampo.henao@cern.ch/proxy/8787/status\" target=\"_blank\">/user/daniel.ocampo.henao@cern.ch/proxy/8787/status</a>\n",
       "                    </td>\n",
       "                    <td style=\"text-align: left;\">\n",
       "                        <strong>Total threads:</strong> 2\n",
       "                    </td>\n",
       "                </tr>\n",
       "                <tr>\n",
       "                    <td style=\"text-align: left;\">\n",
       "                        <strong>Started:</strong> Just now\n",
       "                    </td>\n",
       "                    <td style=\"text-align: left;\">\n",
       "                        <strong>Total memory:</strong> 7.00 GiB\n",
       "                    </td>\n",
       "                </tr>\n",
       "            </table>\n",
       "        </div>\n",
       "    </div>\n",
       "\n",
       "    <details style=\"margin-left: 48px;\">\n",
       "        <summary style=\"margin-bottom: 20px;\">\n",
       "            <h3 style=\"display: inline;\">Workers</h3>\n",
       "        </summary>\n",
       "\n",
       "        \n",
       "        <div style=\"margin-bottom: 20px;\">\n",
       "            <div style=\"width: 24px; height: 24px; background-color: #DBF5FF; border: 3px solid #4CC9FF; border-radius: 5px; position: absolute;\"> </div>\n",
       "            <div style=\"margin-left: 48px;\">\n",
       "            <details>\n",
       "                <summary>\n",
       "                    <h4 style=\"margin-bottom: 0px; display: inline;\">Worker: kubernetes-worker-f3ece757-fe02-4b56-b982-ef246c74c5f0</h4>\n",
       "                </summary>\n",
       "                <table style=\"width: 100%; text-align: left;\">\n",
       "                    <tr>\n",
       "                        <td style=\"text-align: left;\">\n",
       "                            <strong>Comm: </strong> tls://daniel-2eocampo-2ehenao-40cern-2ech.dask-worker.coffea.casa:8788\n",
       "                        </td>\n",
       "                        <td style=\"text-align: left;\">\n",
       "                            <strong>Total threads: </strong> 2\n",
       "                        </td>\n",
       "                    </tr>\n",
       "                    <tr>\n",
       "                        <td style=\"text-align: left;\">\n",
       "                            <strong>Dashboard: </strong> <a href=\"/user/daniel.ocampo.henao@cern.ch/proxy/32957/status\" target=\"_blank\">/user/daniel.ocampo.henao@cern.ch/proxy/32957/status</a>\n",
       "                        </td>\n",
       "                        <td style=\"text-align: left;\">\n",
       "                            <strong>Memory: </strong> 7.00 GiB\n",
       "                        </td>\n",
       "                    </tr>\n",
       "                    <tr>\n",
       "                        <td style=\"text-align: left;\">\n",
       "                            <strong>Nanny: </strong> tls://192.168.144.171:39991\n",
       "                        </td>\n",
       "                        <td style=\"text-align: left;\"></td>\n",
       "                    </tr>\n",
       "                    <tr>\n",
       "                        <td colspan=\"2\" style=\"text-align: left;\">\n",
       "                            <strong>Local directory: </strong> /home/cms-jovyan/dask-worker-space/worker-velzu81v\n",
       "                        </td>\n",
       "                    </tr>\n",
       "\n",
       "                    \n",
       "\n",
       "                    \n",
       "                    <tr>\n",
       "                        <td style=\"text-align: left;\">\n",
       "                            <strong>Tasks executing: </strong> 0\n",
       "                        </td>\n",
       "                        <td style=\"text-align: left;\">\n",
       "                            <strong>Tasks in memory: </strong> 0\n",
       "                        </td>\n",
       "                    </tr>\n",
       "                    <tr>\n",
       "                        <td style=\"text-align: left;\">\n",
       "                            <strong>Tasks ready: </strong> 0\n",
       "                        </td>\n",
       "                        <td style=\"text-align: left;\">\n",
       "                            <strong>Tasks in flight: </strong>0\n",
       "                        </td>\n",
       "                    </tr>\n",
       "                    <tr>\n",
       "                        <td style=\"text-align: left;\">\n",
       "                            <strong>CPU usage:</strong> 0.0%\n",
       "                        </td>\n",
       "                        <td style=\"text-align: left;\">\n",
       "                            <strong>Last seen: </strong> Just now\n",
       "                        </td>\n",
       "                    </tr>\n",
       "                    <tr>\n",
       "                        <td style=\"text-align: left;\">\n",
       "                            <strong>Memory usage: </strong> 108.27 MiB\n",
       "                        </td>\n",
       "                        <td style=\"text-align: left;\">\n",
       "                            <strong>Spilled bytes: </strong> 0 B\n",
       "                        </td>\n",
       "                    </tr>\n",
       "                    <tr>\n",
       "                        <td style=\"text-align: left;\">\n",
       "                            <strong>Read bytes: </strong> 0.0 B\n",
       "                        </td>\n",
       "                        <td style=\"text-align: left;\">\n",
       "                            <strong>Write bytes: </strong> 0.0 B\n",
       "                        </td>\n",
       "                    </tr>\n",
       "                    \n",
       "\n",
       "                </table>\n",
       "            </details>\n",
       "            </div>\n",
       "        </div>\n",
       "        \n",
       "\n",
       "    </details>\n",
       "</div>\n",
       "            </details>\n",
       "        \n",
       "\n",
       "    </div>\n",
       "</div>"
      ],
      "text/plain": [
       "<Client: 'tls://192.168.144.171:8786' processes=1 threads=2, memory=7.00 GiB>"
      ]
     },
     "execution_count": 3,
     "metadata": {},
     "output_type": "execute_result"
    }
   ],
   "source": [
    "from dask.distributed import Client\n",
    "\n",
    "client = Client(\"tls://daniel-2eocampo-2ehenao-40cern-2ech.dask.coffea.casa:8786\")\n",
    "client"
   ]
  },
  {
   "cell_type": "code",
   "execution_count": 4,
   "id": "986e6ee2-b3f4-4be5-b810-2f2af58260df",
   "metadata": {},
   "outputs": [
    {
     "name": "stdout",
     "output_type": "stream",
     "text": [
      "[########################################] | 100% Completed | 40.6s\r"
     ]
    }
   ],
   "source": [
    "with open(\"/home/cms-jovyan/VBFDM_UdeA/fileset/ZToMuMu.json\", \"r\") as f:\n",
    "    fileset = json.load(f)\n",
    "    \n",
    "for dataset, val in fileset.items():\n",
    "    fileset[dataset] = [\"root://xcache/\" + file for file in val]\n",
    "\n",
    "out = processor.run_uproot_job(\n",
    "    fileset,\n",
    "    treename=\"Events\",\n",
    "    processor_instance=BackgroundEstimatorProcessor(),\n",
    "    executor=processor.dask_executor,\n",
    "    executor_args={\n",
    "        \"schema\": processor.NanoAODSchema,\n",
    "        \"client\": client,\n",
    "    },\n",
    ")"
   ]
  },
  {
   "cell_type": "code",
   "execution_count": 11,
   "id": "135eb2bd-8822-475b-bd19-040fba59c2db",
   "metadata": {},
   "outputs": [
    {
     "data": {
      "image/png": "[encoded data removed]",
      "text/plain": [
       "<Figure size 648x432 with 1 Axes>"
      ]
     },
     "metadata": {
      "needs_background": "light"
     },
     "output_type": "display_data"
    }
   ],
   "source": [
    "plt.figure(figsize=(9, 6))\n",
    "for dataset in out:\n",
    "    out[dataset][\"met_kin\"].plot1d(density=True, label=dataset)\n",
    "    plt.legend();"
   ]
  },
  {
   "cell_type": "code",
   "execution_count": 6,
   "id": "2736ffc2-1a82-4171-b986-3171d463bf18",
   "metadata": {},
   "outputs": [],
   "source": [
    "xsecs = {\n",
    "    \"ZToMuMu_M-50To120\": 2116,\n",
    "    \"ZToMuMu_M-120To200\": 20.58,\n",
    "    \"ZToMuMu_M-200To400\": 2.89,\n",
    "    \"ZToMuMu_M-400To800\": 0.2515,\n",
    "    \"ZToMuMu_M-800To1400\": 0.01709, \n",
    "}\n",
    "luminosity = {\n",
    "    \"2016\": 36330.0,\n",
    "    \"2017\": 41480.0,\n",
    "    \"2018\": 59830.0\n",
    "}\n",
    "\n",
    "scaled_hists = {}\n",
    "for dataset, histo in out.items():\n",
    "    # sample weight\n",
    "    xsec = xsecs[dataset]\n",
    "    lumi = luminosity[\"2017\"]\n",
    "    sumw = histo[\"sumw\"]\n",
    "    weight = (xsec * lumi) / sumw\n",
    "    \n",
    "    # histogram scaling\n",
    "    h = histo.copy()\n",
    "    h[\"met_kin\"] *= weight\n",
    "    scaled_hists[dataset] = h"
   ]
  },
  {
   "cell_type": "code",
   "execution_count": 12,
   "id": "f7a7455e-cc84-4fb7-8e5e-193b5b7633d6",
   "metadata": {},
   "outputs": [
    {
     "data": {
      "image/png": "[encoded data removed]",
      "text/plain": [
       "<Figure size 432x288 with 1 Axes>"
      ]
     },
     "metadata": {
      "needs_background": "light"
     },
     "output_type": "display_data"
    }
   ],
   "source": [
    "for dataset in out:\n",
    "    scaled_hists[dataset][\"met_kin\"].plot1d(label=dataset)\n",
    "    plt.legend();"
   ]
  },
  {
   "cell_type": "code",
   "execution_count": 13,
   "id": "ff21fd2d-38d8-48e7-8387-e1ed3709cb5e",
   "metadata": {},
   "outputs": [
    {
     "data": {
      "image/png": "[encoded data removed]",
      "text/plain": [
       "<Figure size 432x288 with 1 Axes>"
      ]
     },
     "metadata": {
      "needs_background": "light"
     },
     "output_type": "display_data"
    }
   ],
   "source": [
    "processor.accumulate(scaled_hists.values())[\"met_kin\"].plot1d();"
   ]
  },
  {
   "cell_type": "code",
   "execution_count": null,
   "id": "c361f133-19a2-4a3d-bee9-aaf755f5053c",
   "metadata": {},
   "outputs": [],
   "source": []
  }
 ],
 "metadata": {
  "kernelspec": {
   "display_name": "Python 3 (ipykernel)",
   "language": "python",
   "name": "python3"
  },
  "language_info": {
   "codemirror_mode": {
    "name": "ipython",
    "version": 3
   },
   "file_extension": ".py",
   "mimetype": "text/x-python",
   "name": "python",
   "nbconvert_exporter": "python",
   "pygments_lexer": "ipython3",
   "version": "3.8.12"
  }
 },
 "nbformat": 4,
 "nbformat_minor": 5
}
